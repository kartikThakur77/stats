{
  "cells": [
    {
      "cell_type": "code",
      "execution_count": 17,
      "id": "91e1b8df-58da-4981-87c3-295aa50c740d",
      "metadata": {
        "colab": {
          "base_uri": "https://localhost:8080/"
        },
        "id": "91e1b8df-58da-4981-87c3-295aa50c740d",
        "outputId": "e6354ce0-f2d7-41f2-c7e6-368d7f1e4498"
      },
      "outputs": [
        {
          "output_type": "stream",
          "name": "stdout",
          "text": [
            "   age  salary  increment\n",
            "0   43   19910          8\n",
            "1   29   38446          8\n",
            "2   22   13206          6\n",
            "3   35   34518          6\n",
            "4   33   35361          8\n"
          ]
        }
      ],
      "source": [
        "import numpy as np\n",
        "import pandas as pd\n",
        "\n",
        "\n",
        "np.random.seed(42)\n",
        "n_rows = 100\n",
        "\n",
        "data = {\n",
        "    'age': np.random.randint(15, 50, size=n_rows),\n",
        "    'salary': np.random.randint(13000, 46000, size=n_rows),\n",
        "    'increment': np.random.choice([6, 7, 8, 9], size=n_rows)\n",
        "}\n",
        "\n",
        "df = pd.DataFrame(data)\n",
        "print(df.head())\n"
      ]
    },
    {
      "cell_type": "code",
      "execution_count": 18,
      "id": "39cf0666-11e0-4844-9436-b93fbc079381",
      "metadata": {
        "colab": {
          "base_uri": "https://localhost:8080/"
        },
        "id": "39cf0666-11e0-4844-9436-b93fbc079381",
        "outputId": "03bd5009-34bb-4ed0-9632-59fab6a2d0e9"
      },
      "outputs": [
        {
          "output_type": "stream",
          "name": "stdout",
          "text": [
            "Synthetic Dataset with NaN values:\n",
            "\n",
            "    age   salary  increment  Age\n",
            "0    43  19910.0          8  NaN\n",
            "1    29  38446.0          8  NaN\n",
            "2    22  13206.0          6  NaN\n",
            "3    35  34518.0          6  NaN\n",
            "4    33  35361.0          8  NaN\n",
            "5    37  36419.0          8  NaN\n",
            "6    25  35403.0          9  NaN\n",
            "7    25  31141.0          9  NaN\n",
            "8    38  27820.0          8  NaN\n",
            "9    38  19374.0          9  NaN\n",
            "10   17  14678.0          9  NaN\n",
            "11   36  29198.0          7  NaN\n"
          ]
        }
      ],
      "source": [
        "df.loc[np.random.choice(df.index, 4, replace=False), \"salary\"] = np.nan\n",
        "df.loc[np.random.choice(df.index,7, replace=False), \"Age\"] = np.nan\n",
        "print(\"Synthetic Dataset with NaN values:\\n\")\n",
        "print(df.head(12))"
      ]
    },
    {
      "cell_type": "code",
      "execution_count": 19,
      "id": "612621bf-676d-4de6-ad72-a47edbd02f8d",
      "metadata": {
        "colab": {
          "base_uri": "https://localhost:8080/"
        },
        "id": "612621bf-676d-4de6-ad72-a47edbd02f8d",
        "outputId": "48da15f9-93e2-4b55-d205-3aac02a974bc"
      },
      "outputs": [
        {
          "output_type": "stream",
          "name": "stderr",
          "text": [
            "/tmp/ipython-input-3194075108.py:5: RuntimeWarning: invalid value encountered in scalar divide\n",
            "  (df.loc[mask, \"salary\"] * df.loc[mask, \"Age\"]).sum()\n"
          ]
        }
      ],
      "source": [
        "mean_salary = df[\"salary\"].mean(skipna=True)   # default skipna=True\n",
        "median_salary = df[\"salary\"].median(skipna=True)\n",
        "mask = df[\"salary\"].notna() & df[\"Age\"].notna()\n",
        "age_weighted_mean = (\n",
        "    (df.loc[mask, \"salary\"] * df.loc[mask, \"Age\"]).sum()\n",
        "    / df.loc[mask, \"Age\"].sum()\n",
        ")"
      ]
    },
    {
      "cell_type": "code",
      "execution_count": null,
      "id": "253dd25e-370f-4f40-9f9f-4702790e79a9",
      "metadata": {
        "colab": {
          "base_uri": "https://localhost:8080/"
        },
        "id": "253dd25e-370f-4f40-9f9f-4702790e79a9",
        "outputId": "40b332e9-c2f5-42b7-d9dc-fcb4f748c36b"
      },
      "outputs": [
        {
          "name": "stdout",
          "output_type": "stream",
          "text": [
            "\n",
            "Results:\n",
            "Mean salary = 28869.01\n",
            "Median Income = 30581.00\n",
            "Age-Weighted Mean salary = nan\n"
          ]
        }
      ],
      "source": [
        "print(\"\\nResults:\")\n",
        "print(f\"Mean salary = {mean_salary:.2f}\")\n",
        "print(f\"Median Income = {median_salary:.2f}\")\n",
        "print(f\"Age-Weighted Mean salary = {age_weighted_mean:.2f}\")"
      ]
    },
    {
      "cell_type": "markdown",
      "id": "NWP4n026XLXT",
      "metadata": {
        "id": "NWP4n026XLXT"
      },
      "source": [
        ":Q Explain when weighted mean is preferable.\n",
        "Ans:Use weighted mean when some data should matter more than others.\n"
      ]
    },
    {
      "cell_type": "markdown",
      "id": "BX9J_RBtXRx5",
      "metadata": {
        "id": "BX9J_RBtXRx5"
      },
      "source": [
        "Problem 2: Standardize income (z-score). Report how many incomes are outliers using rule |z|\n",
        "> 3. Handle NaNs correctly (do not drop entire rows unnecessarily).\n"
      ]
    },
    {
      "cell_type": "code",
      "execution_count": 24,
      "id": "8bfd4d21-522a-45bc-aef2-b31212146103",
      "metadata": {
        "id": "8bfd4d21-522a-45bc-aef2-b31212146103"
      },
      "outputs": [],
      "source": [
        "# Z-score standardization\n",
        "mean_salary = df[\"salary\"].mean(skipna=True)\n",
        "std_salary = df[\"salary\"].std(skipna=True)\n",
        "# Compute z-scores for Income\n",
        "df[\"salary_z\"] = (df[\"salary\"] - mean_salary) / std_salary\n",
        "# Identify outliers using |z| > 3\n",
        "outliers = df[(df[\"salary_z\"].abs() > 3)]"
      ]
    },
    {
      "cell_type": "code",
      "execution_count": 25,
      "id": "458bc2aa-0108-459a-bbca-75fae1377713",
      "metadata": {
        "colab": {
          "base_uri": "https://localhost:8080/"
        },
        "id": "458bc2aa-0108-459a-bbca-75fae1377713",
        "outputId": "d5a180d8-f725-4c04-9143-6eab5b7fb214"
      },
      "outputs": [
        {
          "output_type": "stream",
          "name": "stdout",
          "text": [
            "\n",
            "Standardized Income (z-scores):\n",
            "\n",
            "     salary  salary_z\n",
            "0   19910.0 -1.036510\n",
            "1   38446.0  0.812744\n",
            "2   13206.0 -1.705338\n",
            "3   34518.0  0.420865\n",
            "4   35361.0  0.504967\n",
            "5   36419.0  0.610519\n",
            "6   35403.0  0.509158\n",
            "7   31141.0  0.083957\n",
            "8   27820.0 -0.247365\n",
            "9   19374.0 -1.089984\n",
            "10  14678.0 -1.558483\n",
            "11  29198.0 -0.109888\n",
            "\n",
            "Number of outliers = 0\n",
            "\n",
            "Outlier Rows:\n",
            "\n",
            "Empty DataFrame\n",
            "Columns: [age, salary, increment, Age, Age_Bin, salary_z]\n",
            "Index: []\n"
          ]
        }
      ],
      "source": [
        "print(\"\\nStandardized Income (z-scores):\\n\")\n",
        "print(df[[ \"salary\", \"salary_z\"]].head(12))\n",
        "\n",
        "print(f\"\\nNumber of outliers = {outliers.shape[0]}\")\n",
        "print(\"\\nOutlier Rows:\\n\")\n",
        "print(outliers)"
      ]
    },
    {
      "cell_type": "markdown",
      "id": "VuQK1BzAXXbi",
      "metadata": {
        "id": "VuQK1BzAXXbi"
      },
      "source": [
        "Problem 3: Create age bins: [18-25), [25-35), [35-45), [45-60) and compute for each bin:\n",
        "● count of observations,\n",
        "● mean income,\n",
        "● median score.\n",
        "Show result as a tidy DataFrame sorted by age bin.\n"
      ]
    },
    {
      "cell_type": "code",
      "execution_count": 26,
      "id": "e1255bb7-38f2-40fc-a3c8-6b5632b6a375",
      "metadata": {
        "colab": {
          "base_uri": "https://localhost:8080/"
        },
        "id": "e1255bb7-38f2-40fc-a3c8-6b5632b6a375",
        "outputId": "515cded7-a368-4e44-b7c1-9bb89a748a9a"
      },
      "outputs": [
        {
          "output_type": "stream",
          "name": "stderr",
          "text": [
            "/tmp/ipython-input-4040003767.py:5: FutureWarning: The default of observed=False is deprecated and will be changed to True in a future version of pandas. Pass observed=False to retain current behavior or observed=True to adopt the future default and silence this warning.\n",
            "  result = df.groupby(\"Age_Bin\").agg(\n"
          ]
        }
      ],
      "source": [
        "bins = [13, 25, 34, 45, 55]\n",
        "labels = [\"15-25\", \"25-34\", \"34-45\", \"45-55\"]\n",
        "\n",
        "df[\"Age_Bin\"] = pd.cut(df[\"Age\"], bins=bins, labels=labels, right=False)\n",
        "result = df.groupby(\"Age_Bin\").agg(\n",
        "    Count=(\"salary\", \"count\"),\n",
        "    Mean_Income=(\"salary\", \"mean\"),\n",
        "    Median_Income=(\"salary\", \"median\")\n",
        ").reset_index()\n",
        "result = result.sort_values(\"Age_Bin\").reset_index(drop=True)"
      ]
    },
    {
      "cell_type": "code",
      "execution_count": 27,
      "id": "e2d45f32-ea4c-466c-8d54-e7ca4b5d3f18",
      "metadata": {
        "colab": {
          "base_uri": "https://localhost:8080/"
        },
        "id": "e2d45f32-ea4c-466c-8d54-e7ca4b5d3f18",
        "outputId": "ee64826c-e869-454f-ae67-8ee4c4031d00"
      },
      "outputs": [
        {
          "output_type": "stream",
          "name": "stdout",
          "text": [
            "\n",
            "Result by Age Bin:\n",
            "\n",
            "  Age_Bin  Count  Mean_Income  Median_Income\n",
            "0   15-25      0          NaN            NaN\n",
            "1   25-34      0          NaN            NaN\n",
            "2   34-45      0          NaN            NaN\n",
            "3   45-55      0          NaN            NaN\n"
          ]
        }
      ],
      "source": [
        "print(\"\\nResult by Age Bin:\\n\")\n",
        "print(result)"
      ]
    },
    {
      "cell_type": "markdown",
      "id": "AhDoCN43XeGt",
      "metadata": {
        "id": "AhDoCN43XeGt"
      },
      "source": [
        "Problem 4: Create an array it cannot be of 1 Dimension. And then showcase the operation for\n",
        "the following:\n",
        "● Shape and Resize → shape, size, Transpose, Flatten\n",
        "● Showcasing negative indexing and display error while doing slicing\n",
        "● Arithmetic Operations → Broadcasting, Dot Product\n",
        "● Linear Algebra → Determinant, Inverse\n",
        "                                                                                       "
      ]
    },
    {
      "cell_type": "code",
      "execution_count": 28,
      "id": "66d2f3d3-ec70-4d8a-9547-77fccdb7e66f",
      "metadata": {
        "colab": {
          "base_uri": "https://localhost:8080/"
        },
        "id": "66d2f3d3-ec70-4d8a-9547-77fccdb7e66f",
        "outputId": "e737876c-e9e2-4901-bdd9-3558adea8973"
      },
      "outputs": [
        {
          "output_type": "stream",
          "name": "stdout",
          "text": [
            "Original Array:\n",
            " [[ 4. 12.  6.]\n",
            " [ 6.  8.  2.]\n",
            " [ 5.  9.  1.]]\n"
          ]
        }
      ],
      "source": [
        "arr = np.array([[4, 12, 6],\n",
        "                [6, 8, 2],\n",
        "                [5, 9, 1]], dtype=float)\n",
        "print(\"Original Array:\\n\", arr)"
      ]
    },
    {
      "cell_type": "code",
      "execution_count": 29,
      "id": "c227c64b-96dc-42ce-a006-c4f15977246d",
      "metadata": {
        "colab": {
          "base_uri": "https://localhost:8080/"
        },
        "id": "c227c64b-96dc-42ce-a006-c4f15977246d",
        "outputId": "7fdbcee6-4758-468f-c944-4ea78f174c88"
      },
      "outputs": [
        {
          "output_type": "stream",
          "name": "stdout",
          "text": [
            "\n",
            "Shape of array: (3, 3)\n",
            "Size of array: 9\n",
            "Transpose of array:\n",
            " [[ 4.  6.  5.]\n",
            " [12.  8.  9.]\n",
            " [ 6.  2.  1.]]\n",
            "Flattened array:\n",
            " [ 4. 12.  6.  6.  8.  2.  5.  9.  1.]\n"
          ]
        }
      ],
      "source": [
        "# Shape and Resize\n",
        "print(\"\\nShape of array:\", arr.shape)\n",
        "print(\"Size of array:\", arr.size)\n",
        "print(\"Transpose of array:\\n\", arr.T)\n",
        "print(\"Flattened array:\\n\", arr.flatten())"
      ]
    },
    {
      "cell_type": "code",
      "execution_count": 30,
      "id": "db46664f-70f5-46fa-a1f0-cb9df864b97f",
      "metadata": {
        "colab": {
          "base_uri": "https://localhost:8080/"
        },
        "id": "db46664f-70f5-46fa-a1f0-cb9df864b97f",
        "outputId": "3533cc90-91ba-42bb-95ad-36a4f0c601cb"
      },
      "outputs": [
        {
          "output_type": "stream",
          "name": "stdout",
          "text": [
            "\n",
            "Last row using negative indexing: [5. 9. 1.]\n",
            "Last element using negative indexing: 1.0\n"
          ]
        }
      ],
      "source": [
        "# Negative Indexing\n",
        "print(\"\\nLast row using negative indexing:\", arr[-1])\n",
        "print(\"Last element using negative indexing:\", arr[-1, -1])"
      ]
    },
    {
      "cell_type": "code",
      "execution_count": 31,
      "id": "13684b04-4f9d-47fc-9ce1-3e474e04061a",
      "metadata": {
        "colab": {
          "base_uri": "https://localhost:8080/"
        },
        "id": "13684b04-4f9d-47fc-9ce1-3e474e04061a",
        "outputId": "f090711b-9e9f-4779-dfc9-14b86ce8f1b9"
      },
      "outputs": [
        {
          "output_type": "stream",
          "name": "stdout",
          "text": [
            "\n",
            "IndexError: index -7 is out of bounds for axis 0 with size 3\n"
          ]
        }
      ],
      "source": [
        "# Error in slicing\n",
        "try:\n",
        "    print(arr[-7])\n",
        "except IndexError as e:\n",
        "    print(\"\\nIndexError:\", e)"
      ]
    },
    {
      "cell_type": "code",
      "execution_count": 32,
      "id": "b8bfee98-162a-4f3c-81b2-cf48bba3b5fc",
      "metadata": {
        "colab": {
          "base_uri": "https://localhost:8080/"
        },
        "id": "b8bfee98-162a-4f3c-81b2-cf48bba3b5fc",
        "outputId": "21ec955b-b6d5-4f0b-baaf-6eff4a74b67b"
      },
      "outputs": [
        {
          "output_type": "stream",
          "name": "stdout",
          "text": [
            "\n",
            "Broadcasting (arr + 5):\n",
            " [[ 9. 17. 11.]\n",
            " [11. 13.  7.]\n",
            " [10. 14.  6.]]\n",
            "\n",
            "Dot Product (arr x arr):\n",
            " [[118. 198.  54.]\n",
            " [ 82. 154.  54.]\n",
            " [ 79. 141.  49.]]\n",
            "\n",
            "Determinant: 92.00000000000001\n",
            "Inverse:\n",
            " [[-0.10869565  0.45652174 -0.26086957]\n",
            " [ 0.04347826 -0.2826087   0.30434783]\n",
            " [ 0.15217391  0.26086957 -0.43478261]]\n"
          ]
        }
      ],
      "source": [
        "# Arithmetic Operations\n",
        "# Broadcasting (adding scalar)\n",
        "print(\"\\nBroadcasting (arr + 5):\\n\", arr + 5)\n",
        "\n",
        "# Dot product (matrix multiplication)\n",
        "dot_product = np.dot(arr, arr)\n",
        "print(\"\\nDot Product (arr x arr):\\n\", dot_product)\n",
        "\n",
        "# Linear Algebra Operations\n",
        "det = np.linalg.det(arr)\n",
        "print(\"\\nDeterminant:\", det)\n",
        "\n",
        "# Inverse (only if determinant != 0)\n",
        "if det != 0:\n",
        "    inv = np.linalg.inv(arr)\n",
        "    print(\"Inverse:\\n\", inv)\n",
        "else:\n",
        "    print(\"Matrix is singular, inverse does not exist\")"
      ]
    },
    {
      "cell_type": "code",
      "execution_count": null,
      "id": "3e5fb43c-e66c-4c26-b5c4-9b2bbc38d240",
      "metadata": {
        "id": "3e5fb43c-e66c-4c26-b5c4-9b2bbc38d240"
      },
      "outputs": [],
      "source": []
    },
    {
      "cell_type": "code",
      "execution_count": null,
      "id": "9b448586-6d12-47e9-9461-ddf90bc3f5f1",
      "metadata": {
        "id": "9b448586-6d12-47e9-9461-ddf90bc3f5f1"
      },
      "outputs": [],
      "source": []
    },
    {
      "cell_type": "code",
      "execution_count": null,
      "id": "cb87bdfa-2314-49ca-bf6e-6a12978cc833",
      "metadata": {
        "id": "cb87bdfa-2314-49ca-bf6e-6a12978cc833"
      },
      "outputs": [],
      "source": []
    }
  ],
  "metadata": {
    "colab": {
      "provenance": []
    },
    "kernelspec": {
      "display_name": "Python 3 (ipykernel)",
      "language": "python",
      "name": "python3"
    },
    "language_info": {
      "codemirror_mode": {
        "name": "ipython",
        "version": 3
      },
      "file_extension": ".py",
      "mimetype": "text/x-python",
      "name": "python",
      "nbconvert_exporter": "python",
      "pygments_lexer": "ipython3",
      "version": "3.12.4"
    }
  },
  "nbformat": 4,
  "nbformat_minor": 5
}