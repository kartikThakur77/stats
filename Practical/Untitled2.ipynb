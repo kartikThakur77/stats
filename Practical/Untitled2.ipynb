{
  "nbformat": 4,
  "nbformat_minor": 0,
  "metadata": {
    "colab": {
      "provenance": []
    },
    "kernelspec": {
      "name": "python3",
      "display_name": "Python 3"
    },
    "language_info": {
      "name": "python"
    }
  },
  "cells": [
    {
      "cell_type": "code",
      "execution_count": 5,
      "metadata": {
        "id": "XSlswzU8c5Gj"
      },
      "outputs": [],
      "source": [
        "import pandas as pd\n",
        "import numpy as np\n",
        "import matplotlib.pyplot as plt\n",
        "from scipy.stats import chi2_contingency\n",
        "\n",
        "# Seed for reproducibility\n",
        "np.random.seed(42)\n",
        "\n",
        "# Number of samples\n",
        "n = 200\n",
        "\n",
        "# Create synthetic data\n",
        "df = pd.DataFrame({\n",
        "    'visible_minority': np.random.choice([0, 1], size=n, p=[0.7, 0.3]),  # 30% visible minorities\n",
        "    'tenure': np.random.choice([0, 1], size=n, p=[0.5, 0.5]),            # 50% tenure status\n",
        "    'age': np.random.randint(25, 70, size=n),\n",
        "    'gender': np.random.choice(['Male', 'Female'], size=n, p=[0.6, 0.4]),\n",
        "    'evaluation_score': np.round(np.random.uniform(1, 5, size=n), 2)\n",
        "})\n",
        "\n",
        "# Let's assume visible minorities have slightly less tenure probability\n",
        "df.loc[df['visible_minority'] == 1, 'tenure'] = np.random.choice([0, 1],\n",
        "                                    size=df[df['visible_minority'] == 1].shape[0],\n",
        "                                    p=[0.6, 0.4])\n"
      ]
    },
    {
      "cell_type": "markdown",
      "source": [
        "1. Calculate the percentage of visible minorities are tenure professors. Will you say that tenure status differed if teacher was a visible minority?"
      ],
      "metadata": {
        "id": "QJxGqun1dW_w"
      }
    },
    {
      "cell_type": "code",
      "source": [
        "# Percentage of visible minorities who are tenured\n",
        "visible_minority = df[df['visible_minority'] == 1]\n",
        "num_visible_minority_tenured = visible_minority['tenure'].sum()\n",
        "total_visible_minority = len(visible_minority)\n",
        "percentage_visible_minority_tenured = (num_visible_minority_tenured / total_visible_minority) * 100\n",
        "print(f\"Percentage of visible minorities who are tenured: {percentage_visible_minority_tenured:.2f}%\")\n",
        "\n",
        "# Contingency table for tenure and visible minority\n",
        "contingency = pd.crosstab(df['visible_minority'], df['tenure'])\n",
        "print(\"\\nContingency Table:\")\n",
        "print(contingency)\n",
        "\n",
        "# Chi-square test\n",
        "chi2, p, _, _ = chi2_contingency(contingency)\n",
        "print(f\"\\nChi-square test p-value: {p:.4f}\")\n",
        "\n",
        "if p < 0.05:\n",
        "    print(\"Tenure status differs significantly by visible minority status.\")\n",
        "else:\n",
        "    print(\"No significant difference in tenure status by visible minority status.\")\n"
      ],
      "metadata": {
        "colab": {
          "base_uri": "https://localhost:8080/"
        },
        "id": "z-uCoURqc-eP",
        "outputId": "6aa0d10e-9abf-4e10-8b2e-6c58f4a9e4f0"
      },
      "execution_count": 6,
      "outputs": [
        {
          "output_type": "stream",
          "name": "stdout",
          "text": [
            "Percentage of visible minorities who are tenured: 36.67%\n",
            "\n",
            "Contingency Table:\n",
            "tenure             0   1\n",
            "visible_minority        \n",
            "0                 62  78\n",
            "1                 38  22\n",
            "\n",
            "Chi-square test p-value: 0.0206\n",
            "Tenure status differs significantly by visible minority status.\n"
          ]
        }
      ]
    },
    {
      "cell_type": "markdown",
      "source": [
        "2. Does average age differ by tenure? Produce the means and standard deviations for both tenured and untenured professors."
      ],
      "metadata": {
        "id": "zDbot85mdX5G"
      }
    },
    {
      "cell_type": "code",
      "source": [
        "age_stats = df.groupby('tenure')['age'].agg(['mean', 'std'])\n",
        "print(\"\\nAge statistics by tenure status:\")\n",
        "print(age_stats)\n"
      ],
      "metadata": {
        "colab": {
          "base_uri": "https://localhost:8080/"
        },
        "id": "TA2RG-vpdC8A",
        "outputId": "f7c0e4b7-2bec-4037-e562-deef4702082c"
      },
      "execution_count": 7,
      "outputs": [
        {
          "output_type": "stream",
          "name": "stdout",
          "text": [
            "\n",
            "Age statistics by tenure status:\n",
            "         mean        std\n",
            "tenure                  \n",
            "0       46.34  12.287154\n",
            "1       46.59  13.466828\n"
          ]
        }
      ]
    },
    {
      "cell_type": "markdown",
      "source": [
        "3. Which graph works better and plot that graph for the age variable?"
      ],
      "metadata": {
        "id": "pS93zykZdYnY"
      }
    },
    {
      "cell_type": "code",
      "source": [
        "plt.figure(figsize=(8,5))\n",
        "df.boxplot(column='age', by='tenure')\n",
        "plt.title('Age distribution by Tenure Status')\n",
        "plt.suptitle('')\n",
        "plt.xlabel('Tenure (0=No, 1=Yes)')\n",
        "plt.ylabel('Age')\n",
        "plt.show()\n"
      ],
      "metadata": {
        "colab": {
          "base_uri": "https://localhost:8080/",
          "height": 479
        },
        "id": "rnvHMfdpdE5H",
        "outputId": "bd0e9a88-e0a5-490b-ba5c-7b31307eb07c"
      },
      "execution_count": 8,
      "outputs": [
        {
          "output_type": "display_data",
          "data": {
            "text/plain": [
              "<Figure size 800x500 with 0 Axes>"
            ]
          },
          "metadata": {}
        },
        {
          "output_type": "display_data",
          "data": {
            "text/plain": [
              "<Figure size 640x480 with 1 Axes>"
            ],
            "image/png": "[encoded data removed]"
          },
          "metadata": {}
        }
      ]
    },
    {
      "cell_type": "markdown",
      "source": [
        "4. Define the difference between pyplot.bar and pyplot.barh. Also plot the graph for gender variable."
      ],
      "metadata": {
        "id": "QbfEmqV0dzM6"
      }
    },
    {
      "cell_type": "code",
      "source": [
        "gender_counts = df['gender'].value_counts()\n",
        "\n",
        "plt.figure(figsize=(6,4))\n",
        "plt.bar(gender_counts.index, gender_counts.values, color=['skyblue', 'lightgreen'])\n",
        "plt.xlabel('Gender')\n",
        "plt.ylabel('Count')\n",
        "plt.title('Gender Distribution')\n",
        "plt.show()\n"
      ],
      "metadata": {
        "colab": {
          "base_uri": "https://localhost:8080/",
          "height": 410
        },
        "id": "iqpbzxscdML0",
        "outputId": "ba7cedab-bf32-43b8-ceb2-66b6789b95dc"
      },
      "execution_count": 9,
      "outputs": [
        {
          "output_type": "display_data",
          "data": {
            "text/plain": [
              "<Figure size 600x400 with 1 Axes>"
            ],
            "image/png": "[encoded data removed]"
          },
          "metadata": {}
        }
      ]
    },
    {
      "cell_type": "markdown",
      "source": [
        "5. What is the Median evaluation score for tenured Professors?"
      ],
      "metadata": {
        "id": "kVfZaBDKd8mx"
      }
    },
    {
      "cell_type": "code",
      "source": [
        "median_eval_tenured = df[df['tenure'] == 1]['evaluation_score'].median()\n",
        "print(f\"\\nMedian evaluation score for tenured professors: {median_eval_tenured}\")\n"
      ],
      "metadata": {
        "colab": {
          "base_uri": "https://localhost:8080/"
        },
        "id": "5RTVoSxYdQhb",
        "outputId": "563f0d0b-d738-46e0-8f75-8edcf3b4f0c0"
      },
      "execution_count": 10,
      "outputs": [
        {
          "output_type": "stream",
          "name": "stdout",
          "text": [
            "\n",
            "Median evaluation score for tenured professors: 3.0149999999999997\n"
          ]
        }
      ]
    }
  ]
}