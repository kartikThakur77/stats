{
  "nbformat": 4,
  "nbformat_minor": 0,
  "metadata": {
    "colab": {
      "provenance": []
    },
    "kernelspec": {
      "name": "python3",
      "display_name": "Python 3"
    },
    "language_info": {
      "name": "python"
    }
  },
  "cells": [
    {
      "cell_type": "code",
      "execution_count": 1,
      "metadata": {
        "colab": {
          "base_uri": "https://localhost:8080/"
        },
        "id": "FBdpQMFumArl",
        "outputId": "f2139f2d-108d-4eb7-ba02-e86c3da81c44"
      },
      "outputs": [
        {
          "output_type": "stream",
          "name": "stdout",
          "text": [
            "## Part 1: Teachers' Rating Dataset\n",
            "----------------------------------------\n",
            "Sample of Ratings: [4.2 3.9 4.3 4.6 3.9 3.9 4.6 4.3 3.8 4.2] ...\n",
            "\n"
          ]
        }
      ],
      "source": [
        "# ===================================================\n",
        "#  Synthetic Data Generation and Statistical Analysis\n",
        "# ===================================================\n",
        "\n",
        "import numpy as np\n",
        "from scipy import stats\n",
        "import math\n",
        "\n",
        "# ===================================================\n",
        "#  PART 1: Teachers' Rating Dataset\n",
        "# ===================================================\n",
        "print(\"## Part 1: Teachers' Rating Dataset\")\n",
        "print(\"-\" * 40)\n",
        "\n",
        "# Create a synthetic dataset of 50 teacher evaluation scores\n",
        "# Ratings are randomly distributed between 2.5 and 5.0, with most scores higher (typical pattern)\n",
        "np.random.seed(42)\n",
        "ratings = np.round(np.random.normal(loc=4.0, scale=0.4, size=50), 1)\n",
        "\n",
        "# Ensure values stay within valid range (2.5 to 5.0)\n",
        "ratings = np.clip(ratings, 2.5, 5.0)\n",
        "print(\"Sample of Ratings:\", ratings[:10], \"...\\n\")\n"
      ]
    },
    {
      "cell_type": "markdown",
      "source": [
        "\n",
        "Q1. Using the teachers' rating dataset, what is the probability of receiving an evaluation score of greater than 4.5"
      ],
      "metadata": {
        "id": "WPVZgDPometU"
      }
    },
    {
      "cell_type": "code",
      "source": [
        "count_gt_4_5 = np.sum(ratings > 4.5)\n",
        "total_count = len(ratings)\n",
        "prob_gt_4_5 = count_gt_4_5 / total_count\n",
        "\n",
        "print(f\"Q1: Probability of receiving a score > 4.5\")\n",
        "print(f\"   - Count of scores > 4.5: {count_gt_4_5}\")\n",
        "print(f\"   - Total scores: {total_count}\")\n",
        "print(f\"   - Probability: {count_gt_4_5}/{total_count} = {prob_gt_4_5:.2f} or {prob_gt_4_5:.0%}\\n\")"
      ],
      "metadata": {
        "colab": {
          "base_uri": "https://localhost:8080/"
        },
        "id": "-WWwH_QWmFa2",
        "outputId": "15fa3c0f-07e4-4239-c9d8-deab44d82ec2"
      },
      "execution_count": 2,
      "outputs": [
        {
          "output_type": "stream",
          "name": "stdout",
          "text": [
            "Q1: Probability of receiving a score > 4.5\n",
            "   - Count of scores > 4.5: 4\n",
            "   - Total scores: 50\n",
            "   - Probability: 4/50 = 0.08 or 8%\n",
            "\n"
          ]
        }
      ]
    },
    {
      "cell_type": "markdown",
      "source": [
        "Q2. Using the teachers' rating dataset, what is the probability of receiving an evaluation score greater than 3.5 and less than 4.2"
      ],
      "metadata": {
        "id": "RIJGpQUMmhjO"
      }
    },
    {
      "cell_type": "code",
      "source": [
        "print(\"## Part 2: Hypothesis Test for Basketball Teams\")\n",
        "print(\"-\" * 50)\n",
        "p_value = 2 * (1 - stats.norm.cdf(abs(z_score)))\n",
        "\n",
        "print(\"Performing the Two-Tailed Z-test:\")\n",
        "print(f\"   - Sample Mean (x̄): {x_bar:.2f}\")\n",
        "print(f\"   - Z-score: {z_score:.4f}\")\n",
        "print(f\"   - P-value: {p_value:.4f}\\n\")"
      ],
      "metadata": {
        "colab": {
          "base_uri": "https://localhost:8080/"
        },
        "id": "cGBlbl5XmHwG",
        "outputId": "4c28f89e-49ee-44b7-e2dd-b7b54f33cae6"
      },
      "execution_count": 7,
      "outputs": [
        {
          "output_type": "stream",
          "name": "stdout",
          "text": [
            "## Part 2: Hypothesis Test for Basketball Teams\n",
            "--------------------------------------------------\n",
            "Performing the Two-Tailed Z-test:\n",
            "   - Sample Mean (x̄): 9.81\n",
            "   - Z-score: -2.3939\n",
            "   - P-value: 0.0167\n",
            "\n"
          ]
        }
      ]
    },
    {
      "cell_type": "markdown",
      "source": [
        "Q3. Using the two-tailed test from a normal distribution:\n",
        "1. A professional basketball team wants to compare its performance with that of players in a regional league.\n",
        "2. The pros are known to have a historic mean of 12 points per game with a standard deviation of 5.5.\n",
        "3. A group of 36 regional players recorded on average 10.7 points per game.\n",
        "4. The pro coach would like to know whether his professional team scores on average are different from that of the regional players.\n",
        "State the null hypothesis\n",
        "Null Hypo: (\"The mean point of the regional players is not different from the historic mean\")\n",
        "Alternative Hypo: (\"The mean point of the regional players is different from the historic mean\")"
      ],
      "metadata": {
        "id": "6M7hjwyPmkuA"
      }
    },
    {
      "cell_type": "code",
      "source": [
        "print(\"Stating the Hypotheses:\")\n",
        "print(\"Null Hypothesis (H₀): The mean point of the regional players is not different from the historic mean (μ = 12).\")\n",
        "print(\"Alternative Hypothesis (H₁): The mean point of the regional players is different from the historic mean (μ ≠ 12).\\n\")\n",
        "\n",
        "# Given information\n",
        "mu_0 = 12       # Historic mean (population mean)\n",
        "sigma = 5.5     # Population standard deviation\n",
        "n = 36          # Sample size\n",
        "\n",
        "# Generate synthetic dataset for 36 regional players\n",
        "np.random.seed(42)\n",
        "regional_scores = np.round(np.random.normal(loc=10.7, scale=sigma, size=n), 1)\n",
        "\n",
        "# Calculate sample mean\n",
        "x_bar = np.mean(regional_scores)\n",
        "\n",
        "# Step 1: Standard error of the mean\n",
        "sem = sigma / math.sqrt(n)\n",
        "\n",
        "# Step 2: Z-score\n",
        "z_score = (x_bar - mu_0) / sem\n",
        "\n",
        "# Step 3: Two-tailed p-value\n",
        "p_value = 2 * (1 - stats.norm.cdf(abs(z_score)))\n",
        "\n",
        "print(\"Performing the Two-Tailed Z-test:\")\n",
        "print(f\"   - Sample Mean (x̄): {x_bar:.2f}\")\n",
        "print(f\"   - Z-score: {z_score:.4f}\")\n",
        "print(f\"   - P-value: {p_value:.4f}\\n\")\n",
        "\n",
        "# Step 4: Conclusion\n",
        "alpha = 0.05\n",
        "print(f\"Conclusion (at α = {alpha}):\")\n",
        "if p_value < alpha:\n",
        "    print(f\"   - Since p-value ({p_value:.4f}) < {alpha}, we REJECT the null hypothesis.\")\n",
        "    print(\"   - There is statistically significant evidence that the regional players' mean differs from the historic mean.\")\n",
        "else:\n",
        "    print(f\"   - Since p-value ({p_value:.4f}) > {alpha}, we FAIL TO REJECT the null hypothesis.\")\n",
        "    print(\"   - There is not enough evidence to say the regional players' mean differs from the historic mean.\")"
      ],
      "metadata": {
        "colab": {
          "base_uri": "https://localhost:8080/"
        },
        "id": "iZ-xTNvvmOOv",
        "outputId": "9f41b517-5ee3-4214-909e-fa12dffb268f"
      },
      "execution_count": 6,
      "outputs": [
        {
          "output_type": "stream",
          "name": "stdout",
          "text": [
            "Stating the Hypotheses:\n",
            "Null Hypothesis (H₀): The mean point of the regional players is not different from the historic mean (μ = 12).\n",
            "Alternative Hypothesis (H₁): The mean point of the regional players is different from the historic mean (μ ≠ 12).\n",
            "\n",
            "Performing the Two-Tailed Z-test:\n",
            "   - Sample Mean (x̄): 9.81\n",
            "   - Z-score: -2.3939\n",
            "   - P-value: 0.0167\n",
            "\n",
            "Conclusion (at α = 0.05):\n",
            "   - Since p-value (0.0167) < 0.05, we REJECT the null hypothesis.\n",
            "   - There is statistically significant evidence that the regional players' mean differs from the historic mean.\n"
          ]
        }
      ]
    }
  ]
}