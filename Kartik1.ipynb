{
  "nbformat": 4,
  "nbformat_minor": 0,
  "metadata": {
    "colab": {
      "provenance": []
    },
    "kernelspec": {
      "name": "python3",
      "display_name": "Python 3"
    },
    "language_info": {
      "name": "python"
    }
  },
  "cells": [
    {
      "cell_type": "code",
      "source": [
        "import pandas as pd\n",
        "import numpy as np\n",
        "import matplotlib.pyplot as plt\n",
        "import seaborn as sns\n",
        "\n",
        "# Set seed for reproducibility\n",
        "np.random.seed(42)\n",
        "\n",
        "# Sample size\n",
        "n = 100\n",
        "\n",
        "# Create synthetic dataset\n",
        "df = pd.DataFrame({\n",
        "    'instructor_id': range(1, n + 1),\n",
        "    'gender': np.random.choice(['Male', 'Female'], size=n),\n",
        "    'beauty': np.round(np.random.normal(loc=5.0, scale=1.5, size=n), 2),\n",
        "    'rating': np.round(np.random.normal(loc=4.0, scale=0.5, size=n), 2),\n",
        "    'tenure': np.random.choice(['Yes', 'No'], size=n, p=[0.4, 0.6])\n",
        "})\n",
        "\n",
        "# Clamp beauty scores to between 1 and 10\n",
        "df['beauty'] = df['beauty'].clip(lower=1.0, upper=10.0)"
      ],
      "metadata": {
        "id": "br5JtsEFrbmr"
      },
      "execution_count": 3,
      "outputs": []
    },
    {
      "cell_type": "markdown",
      "source": [
        "Q1. Can you identify whether teachers Rating Data is a time serires or cross sectional"
      ],
      "metadata": {
        "id": "lOGYUtRWr_cb"
      }
    },
    {
      "cell_type": "code",
      "source": [
        "print(\"Q1: This dataset is CROSS-SECTIONAL, as all data is from a single point in time.\\n\")"
      ],
      "metadata": {
        "colab": {
          "base_uri": "https://localhost:8080/"
        },
        "id": "wTuloQnKre4c",
        "outputId": "8daed248-e2c4-4265-b72e-04b4020e8c48"
      },
      "execution_count": 4,
      "outputs": [
        {
          "output_type": "stream",
          "name": "stdout",
          "text": [
            "Q1: This dataset is CROSS-SECTIONAL, as all data is from a single point in time.\n",
            "\n"
          ]
        }
      ]
    },
    {
      "cell_type": "markdown",
      "source": [
        "Q2. Find the mean, median, minimum and maximum values for the students"
      ],
      "metadata": {
        "id": "zn4qPN8ysAtu"
      }
    },
    {
      "cell_type": "code",
      "source": [
        "print(\"Q2: Student Rating Stats\")\n",
        "print(\"Mean Rating:\", df['rating'].mean())\n",
        "print(\"Median Rating:\", df['rating'].median())\n",
        "print(\"Min Rating:\", df['rating'].min())\n",
        "print(\"Max Rating:\", df['rating'].max(), \"\\n\")"
      ],
      "metadata": {
        "colab": {
          "base_uri": "https://localhost:8080/"
        },
        "id": "ArhmDmjorf1O",
        "outputId": "7d475caf-da14-4149-f80b-e1b2dd9df6cc"
      },
      "execution_count": 5,
      "outputs": [
        {
          "output_type": "stream",
          "name": "stdout",
          "text": [
            "Q2: Student Rating Stats\n",
            "Mean Rating: 4.056100000000001\n",
            "Median Rating: 4.11\n",
            "Min Rating: 2.99\n",
            "Max Rating: 5.93 \n",
            "\n"
          ]
        }
      ]
    },
    {
      "cell_type": "markdown",
      "source": [
        "Q3. Produce the descriptive statistics table."
      ],
      "metadata": {
        "id": "qeOrGGprsFky"
      }
    },
    {
      "cell_type": "code",
      "source": [
        "print(\"Q3: Descriptive Statistics Table\")\n",
        "print(df.describe(), \"\\n\")"
      ],
      "metadata": {
        "colab": {
          "base_uri": "https://localhost:8080/"
        },
        "id": "GRuLBA3zrkU3",
        "outputId": "a1e12a8b-74c7-4952-e04b-abf9a57f19f3"
      },
      "execution_count": 6,
      "outputs": [
        {
          "output_type": "stream",
          "name": "stdout",
          "text": [
            "Q3: Descriptive Statistics Table\n",
            "       instructor_id      beauty      rating\n",
            "count     100.000000  100.000000  100.000000\n",
            "mean       50.500000    4.955200    4.056100\n",
            "std        29.011492    1.407942    0.501311\n",
            "min         1.000000    1.070000    2.990000\n",
            "25%        25.750000    4.120000    3.640000\n",
            "50%        50.500000    4.950000    4.110000\n",
            "75%        75.250000    5.797500    4.332500\n",
            "max       100.000000    8.690000    5.930000 \n",
            "\n"
          ]
        }
      ]
    },
    {
      "cell_type": "markdown",
      "source": [
        "Q4. Create a histogram of the beauty variable and breifly comment on the distribution of the data."
      ],
      "metadata": {
        "id": "i22-jcg3sIWI"
      }
    },
    {
      "cell_type": "code",
      "source": [
        "print(\"Q4: Histogram of Beauty Scores\")\n",
        "plt.figure(figsize=(8, 5))\n",
        "sns.histplot(df['beauty'], bins=10, kde=True, color='skyblue')\n",
        "plt.title('Histogram of Beauty Scores')\n",
        "plt.xlabel('Beauty Score')\n",
        "plt.ylabel('Frequency')\n",
        "plt.grid(True)\n",
        "plt.tight_layout()\n",
        "plt.show()\n",
        "print(\"Comment: Beauty scores appear roughly normally distributed, centered around 5.\\n\")"
      ],
      "metadata": {
        "colab": {
          "base_uri": "https://localhost:8080/",
          "height": 559
        },
        "id": "-VdAOxYurnY6",
        "outputId": "2b3eb12c-c68e-410c-f493-2b82998f6ccc"
      },
      "execution_count": 7,
      "outputs": [
        {
          "output_type": "stream",
          "name": "stdout",
          "text": [
            "Q4: Histogram of Beauty Scores\n"
          ]
        },
        {
          "output_type": "display_data",
          "data": {
            "text/plain": [
              "<Figure size 800x500 with 1 Axes>"
            ],
            "image/png": "[encoded data removed]"
          },
          "metadata": {}
        },
        {
          "output_type": "stream",
          "name": "stdout",
          "text": [
            "Comment: Beauty scores appear roughly normally distributed, centered around 5.\n",
            "\n"
          ]
        }
      ]
    },
    {
      "cell_type": "markdown",
      "source": [
        "Q5. Does average beauty score differ by gender? Produce the means and standard deviations for both male and female instructors"
      ],
      "metadata": {
        "id": "VedYdZ--sLhk"
      }
    },
    {
      "cell_type": "code",
      "source": [
        "print(\"Q5: Beauty Score by Gender (Mean and Std Dev)\")\n",
        "print(df.groupby('gender')['beauty'].agg(['mean', 'std']), \"\\n\")"
      ],
      "metadata": {
        "colab": {
          "base_uri": "https://localhost:8080/"
        },
        "id": "Skz8PwNRrtZT",
        "outputId": "396d524c-ced6-48c8-c493-098debb4a1ee"
      },
      "execution_count": 8,
      "outputs": [
        {
          "output_type": "stream",
          "name": "stdout",
          "text": [
            "Q5: Beauty Score by Gender (Mean and Std Dev)\n",
            "            mean       std\n",
            "gender                    \n",
            "Female  4.849286  1.531148\n",
            "Male    5.090000  1.237753 \n",
            "\n"
          ]
        }
      ]
    },
    {
      "cell_type": "markdown",
      "source": [
        "Q6. Calculate the percentage of males and females that are tenured professors. Will you say that tenure status differ by gender"
      ],
      "metadata": {
        "id": "ocWF2eZDsPbv"
      }
    },
    {
      "cell_type": "code",
      "source": [
        "print(\"Q6: Percentage of Tenured Professors by Gender\")\n",
        "tenure_by_gender = pd.crosstab(df['gender'], df['tenure'], normalize='index') * 100\n",
        "print(tenure_by_gender.round(2))\n",
        "print(\"\\nComment: If there is a notable difference in tenure rates between genders, this could indicate disparity.\")"
      ],
      "metadata": {
        "colab": {
          "base_uri": "https://localhost:8080/"
        },
        "id": "Pje3jU2srwqx",
        "outputId": "a58fcf86-358d-4f65-9367-a0d669c9d89b"
      },
      "execution_count": 9,
      "outputs": [
        {
          "output_type": "stream",
          "name": "stdout",
          "text": [
            "Q6: Percentage of Tenured Professors by Gender\n",
            "tenure     No    Yes\n",
            "gender              \n",
            "Female  58.93  41.07\n",
            "Male    59.09  40.91\n",
            "\n",
            "Comment: If there is a notable difference in tenure rates between genders, this could indicate disparity.\n"
          ]
        }
      ]
    }
  ]
}